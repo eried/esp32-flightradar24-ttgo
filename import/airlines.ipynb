{
 "cells": [
  {
   "cell_type": "markdown",
   "metadata": {},
   "source": [
    "# Airlines\n",
    "\n",
    "Obtained from https://en.wikipedia.org/wiki/List_of_airline_codes. Then exported as csv.\n",
    "Not ideal because utf8, inconsistancies etc...\n",
    "\n",
    "Some images from https://flightaware.com/live/fleet/{3 character code}\n",
    "\n",
    "Assumes directory present with images. These will be references in the export\n"
   ]
  },
  {
   "cell_type": "code",
   "execution_count": null,
   "metadata": {},
   "outputs": [],
   "source": [
    "import csv\n",
    "import unicodedata\n",
    "import urllib.request\n",
    "import os\n"
   ]
  },
  {
   "cell_type": "code",
   "execution_count": null,
   "metadata": {},
   "outputs": [],
   "source": [
    "image_path = '../../data/airlines/images/'\n",
    "download_logos = False"
   ]
  },
  {
   "cell_type": "markdown",
   "metadata": {},
   "source": [
    "Read the airports from the scv file\n"
   ]
  },
  {
   "cell_type": "code",
   "execution_count": 31,
   "metadata": {},
   "outputs": [],
   "source": [
    "with open('airlines.csv', newline='') as csvfile:\n",
    "    airlines_csv = csv.reader(csvfile, delimiter=',', quoting=csv.QUOTE_NONE)\n",
    "    airlines = []\n",
    "\n",
    "    # IATA\tICAO\tAirline\tCall sign\tCountry/Region\tComments\n",
    "    for row in airlines_csv:\n",
    "        icao = row[1]\n",
    "        if not icao or icao == 'n/a':\n",
    "            continue\n",
    "\n",
    "    if (row.count() == 5):\n",
    "        airlines.append(\n",
    "            {'iata': row[0], 'icao': icao, 'airline': row[2], 'callsign': row[3], 'country': row[4]})\n",
    "\n",
    "    if (row.count() == 6):\n",
    "        # airline has often a , example: ,ALC,Southern Jersey Airways, Inc.,ACOM,United States,\n",
    "        airlines.append(\n",
    "            {'iata': row[0], 'icao': icao, 'airline': row[2] + ',' + row[3], 'callsign': row[4], 'country': row[5], 'comments': row[6]})\n",
    "\n",
    "\n",
    "#print(airlines)"
   ]
  },
  {
   "cell_type": "markdown",
   "metadata": {},
   "source": [
    "Sort the list on the column 'icao'"
   ]
  },
  {
   "cell_type": "code",
   "execution_count": null,
   "metadata": {},
   "outputs": [],
   "source": [
    "airlines.sort(key=lambda v: v['icao'])"
   ]
  },
  {
   "cell_type": "markdown",
   "metadata": {},
   "source": [
    "Download logos"
   ]
  },
  {
   "cell_type": "code",
   "execution_count": null,
   "metadata": {},
   "outputs": [],
   "source": [
    "\n",
    "if download_logos:\n",
    "    for airline in airlines:\n",
    "        logo_path = image_path + airline['icao'] + '.png'\n",
    "        # Do not overwrite\n",
    "        if os.path.exists(logo_path):\n",
    "            continue\n",
    "\n",
    "        logo_url = 'https://e0.flightcdn.com/images/airline_logos/90p/'+ airline['icao'] + '.png'\n",
    "        #logo_url = 'https://flightaware.com/live/fleet/' + key + '.png'\n",
    "        request = requests.get(url, allow_redirects=True)\n",
    "        if request.status_code == 200:\n",
    "            open(logo_path, 'wb').write(request.content)"
   ]
  },
  {
   "cell_type": "markdown",
   "metadata": {},
   "source": [
    "Generate the output"
   ]
  },
  {
   "cell_type": "code",
   "execution_count": null,
   "metadata": {},
   "outputs": [],
   "source": [
    "for airline in airlines:\n",
    "    logo_path = image_path + airline['icao'] + '.png'\n",
    "    logo = '&airline_logo_' + airline['icao'] if os.path.exists(logo_path) else 'nullptr'\n",
    "\n",
    "    values = [\"\\\"\" + airline['icao'] + \"\\\"\", \"\\\"\" + airline['callsign']+\"\\\"\", \"\\\"\" + airline['airline']+\"\\\"\", \"\\\"\" + airline['country'] +\"\\\"\", logo]\n",
    "    line = \"{ \" + \", \".join(values) + \"}\"\n",
    "    print(unicodedata.normalize('NFKD', line).encode('ascii', errors='ignore').decode('ascii'))\n"
   ]
  }
 ],
 "metadata": {
  "interpreter": {
   "hash": "aee8b7b246df8f9039afb4144a1f6fd8d2ca17a180786b69acc140d282b71a49"
  },
  "kernelspec": {
   "display_name": "Python 3.9.7 64-bit",
   "language": "python",
   "name": "python3"
  },
  "language_info": {
   "codemirror_mode": {
    "name": "ipython",
    "version": 3
   },
   "file_extension": ".py",
   "mimetype": "text/x-python",
   "name": "python",
   "nbconvert_exporter": "python",
   "pygments_lexer": "ipython3",
   "version": "3.9.7"
  },
  "orig_nbformat": 4
 },
 "nbformat": 4,
 "nbformat_minor": 2
}

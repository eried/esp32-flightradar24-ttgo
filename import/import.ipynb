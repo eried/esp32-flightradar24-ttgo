{
 "cells": [
  {
   "cell_type": "markdown",
   "metadata": {},
   "source": [
    "/usr/local/bin/python3 -m pip install csv"
   ]
  },
  {
   "cell_type": "code",
   "execution_count": null,
   "metadata": {},
   "outputs": [],
   "source": [
    "import csv\n",
    "import unicodedata\n",
    "import requests\n",
    "import xml.etree.ElementTree\n",
    "\n",
    "ourairports_base_url = 'https://github.com/davidmegginson/ourairports-data/raw/main/'\n",
    "ourairports_datafiles = ['airports.csv', 'countries.csv', 'regions.csv']\n",
    "wikipedia_airline_codes_url = 'https://en.wikipedia.org/wiki/List_of_airline_codes'\n",
    "\n",
    "image_path = '../lib/airline-logos/images/'\n",
    "   \n",
    "force_download = False\n",
    "download_logos = False"
   ]
  },
  {
   "cell_type": "markdown",
   "metadata": {},
   "source": [
    "### Download files from github.com (ourairports) and WikiPedia"
   ]
  },
  {
   "cell_type": "code",
   "execution_count": null,
   "metadata": {},
   "outputs": [],
   "source": [
    "if force_download:\n",
    "    for f in ourairports_datafiles:\n",
    "        url = ourairports_base_url + f\n",
    "        r = requests.get(url)\n",
    "        if (r.status_code == 200):\n",
    "            with open('.' + f, 'w') as fp:\n",
    "                fp.write(r.text)\n",
    "\n",
    "    r = requests.get(wikipedia_airline_codes_url)\n",
    "    if (r.status_code == 200):\n",
    "        with open('.airlines.html', 'w') as fp:\n",
    "            fp.write(r.text)"
   ]
  },
  {
   "cell_type": "code",
   "execution_count": null,
   "metadata": {},
   "outputs": [],
   "source": [
    "if download_logos:\n",
    "    for airline in airlines:\n",
    "        logo_path = image_path + airline['icao'] + '.png'\n",
    "        # Do not overwrite\n",
    "        if os.path.exists(logo_path):\n",
    "            continue\n",
    "\n",
    "        logo_url = 'https://e0.flightcdn.com/images/airline_logos/90p/'+ airline['icao'] + '.png'\n",
    "        #logo_url = 'https://flightaware.com/live/fleet/' + key + '.png'\n",
    "        request = requests.get(logo_url, allow_redirects=True)\n",
    "        if request.status_code == 200:\n",
    "            open(logo_path, 'wb').write(request.content)\n",
    "             print ('Downloaded ' + logo_url)"
   ]
  },
  {
   "cell_type": "markdown",
   "metadata": {},
   "source": [
    "## Process files"
   ]
  },
  {
   "cell_type": "code",
   "execution_count": null,
   "metadata": {},
   "outputs": [],
   "source": [
    "countries = {}\n",
    "\n",
    "# \"id\",\"code\",\"name\",\"continent\",\"wikipedia_link\",\"keywords\"\n",
    "with open('.countries.csv', 'r', encoding='utf-8') as csvfile:\n",
    "    countries_reader = csv.DictReader(csvfile, delimiter=',', quotechar='\"')\n",
    "    for row in countries_reader:\n",
    "        countries[row['code']] = row\n",
    "\n",
    "countries = sorted(countries.values(), key=lambda x: x['code'])"
   ]
  },
  {
   "cell_type": "code",
   "execution_count": null,
   "metadata": {},
   "outputs": [],
   "source": [
    "airports = {}\n",
    "\n",
    "# \"id\",\"ident\",\"type\",\"name\",\"latitude_deg\",\"longitude_deg\",\"elevation_ft\",\"continent\",\"iso_country\",\"iso_region\",\"municipality\",\"scheduled_service\",\"gps_code\",\"iata_code\",\"local_code\",\"home_link\",\"wikipedia_link\",\"keywords\"\n",
    "with open('.airports.csv', 'r', encoding='utf-8') as csvfile:\n",
    "    airports_reader = csv.DictReader(csvfile, delimiter=',', quotechar='\"')\n",
    "    for row in airports_reader:\n",
    "        if len(row['iata_code']) == 3:\n",
    "            airports[row['iata_code']] = row\n",
    "\n",
    "airports = sorted(airports.values(), key=lambda x: x['iata_code'])"
   ]
  },
  {
   "cell_type": "markdown",
   "metadata": {},
   "source": [
    "Prepare map for resolving countries to iso codes"
   ]
  },
  {
   "cell_type": "code",
   "execution_count": null,
   "metadata": {},
   "outputs": [],
   "source": [
    "countrymap = {}\n",
    "for c in countries:\n",
    "    countrymap[c['name']] = c['code']\n",
    "\n",
    "# Incorrect mappings or typos\n",
    "countrymap['Russian Federation'] = 'RU'\n",
    "countrymap['Ivory Coast'] = 'CI'\n",
    "countrymap['Global'] = 'ZZ'\n",
    "countrymap['Republic of Korea'] = 'KR'\n",
    "countrymap['Macao'] = 'AS'\n",
    "countrymap['Netherlands Antilles'] = 'NA'\n",
    "countrymap['São Tomé and Príncipe'] = 'ST'\n",
    "countrymap['Democratic Republic of the Congo'] = 'CD'\n",
    "countrymap['Reunion'] = 'RE'\n",
    "countrymap['Somali Republic'] = 'SO'\n",
    "countrymap['The Gambia'] = 'GM'\n",
    "countrymap['Peru'] = 'PE'\n",
    "countrymap['Swaziland'] = 'SZ'\n",
    "countrymap['Macedonia'] = 'MK'\n",
    "countrymap['Myanmar']= 'MM'\n",
    "countrymap['Democratic People\\'s Republic of Korea'] = 'KP'\n",
    "countrymap['Moldovoa']= 'MD'\n",
    "countrymap['Burkino Faso'] = 'BF'\n",
    "countrymap['Syrian Arab Republic'] = 'SY'\n",
    "countrymap['CANADA'] = 'CA'\n",
    "countrymap['Republic of the Congo'] = 'CG'\n",
    "countrymap['Democratic Republic of Congo'] = 'CD'\n",
    "countrymap['UAE'] = 'AE'\n",
    "countrymap['Hong Kong SAR of China']= 'HK'\n",
    "countrymap['French Guyana'] = 'GF'\n",
    "countrymap['Lao People\\'s Democratic Republic'] = 'LA'\n",
    "countrymap['THAILAND'] = 'TH'\n",
    "countrymap['Molodva'] = 'MD'\n",
    "countrymap['the Netherlands'] = 'NL'\n",
    "countrymap['Domocratic Republic of Congo'] = 'CD'\n",
    "countrymap['Spain and France'] = 'ES'   # Level airline\n",
    "countrymap['Sweden, Denmark and Norway'] = 'SE' #SAS\n",
    "countrymap['Norway, Sweden and San Diego'] = 'GB' # SCAVAC flight school"
   ]
  },
  {
   "cell_type": "code",
   "execution_count": null,
   "metadata": {},
   "outputs": [],
   "source": [
    "\n",
    "root = xml.etree.ElementTree.parse('.airlines.html').getroot()\n",
    "\n",
    "airlines=[]\n",
    "\n",
    "# IATA\tICAO\tAirline\tCall sign\tCountry/Region\tComments\n",
    "rows = root.findall('.//table//tr')\n",
    "rows.pop(0)\n",
    "fields = ['iata_code', 'icao_code', 'name', 'callsign', 'country', 'comments']\n",
    "for row in rows:\n",
    "    cells = row.findall('.//td')\n",
    "    data = {}\n",
    "    for i in range(0, len(fields)- 1):\n",
    "        cell = cells[i]\n",
    "        while True:\n",
    "            val  = cell.text\n",
    "            if val is not None:\n",
    "                break\n",
    "            # sometimes in a <a> tag, and sometimes in a <a><s></s></a>\n",
    "            cell = cell.find('*')\n",
    "            if cell is None:\n",
    "                val = ''\n",
    "                break;\n",
    "            \n",
    "        data[fields[i]] = val.strip()\n",
    "\n",
    "    if data['icao_code']:\n",
    "        # Exceptions in HTML\n",
    "        if data['icao_code'] == '—' or data['icao_code'] == 'n/a' or data['country'] == 'n/a':\n",
    "            continue\n",
    "\n",
    "        if not data['country'] in countrymap.keys():\n",
    "            print('Country not found: ' + data['country'])\n",
    "            continue\n",
    "\n",
    "        data['iso_country'] = countrymap[data['country']]\n",
    "        airlines.append(data)\n",
    "\n",
    "airlines = sorted(airlines, key=lambda x: x['icao_code'])\n",
    "#print(airlines)"
   ]
  },
  {
   "cell_type": "markdown",
   "metadata": {},
   "source": [
    "## Write data"
   ]
  },
  {
   "cell_type": "code",
   "execution_count": null,
   "metadata": {},
   "outputs": [],
   "source": [
    "for country in countries:\n",
    "      line = 'const country_t country_' + country['code'] + ' = { \"' + country['code'] + '\", \"' + country['name']+ '\", &country_flag_' + country['code'] + ' };'\n",
    "      print(unicodedata.normalize('NFKD', line).encode('ascii', errors='ignore').decode('ascii'))\n"
   ]
  },
  {
   "cell_type": "code",
   "execution_count": null,
   "metadata": {},
   "outputs": [],
   "source": [
    "for airport in airports:\n",
    "    region = airport['iso_region'].split('-')[1]\n",
    "    line = '{ \"' + airport['iata_code'] + '\", \"' + airport['name'].replace('\"', '\\'') + '\", \"' + airport['municipality']+ '\", \"' + region + '\", &country_' + airport['iso_country'] + ' ,' +  str(airport['latitude_deg']) + ', ' + str(airport['longitude_deg']) + ', ' + str(airport['elevation_ft'] + ' },')\n",
    "    print(unicodedata.normalize('NFKD', line).encode('ascii', errors='ignore').decode('ascii'))"
   ]
  },
  {
   "cell_type": "code",
   "execution_count": null,
   "metadata": {},
   "outputs": [],
   "source": [
    "for airline in airlines:\n",
    "    logo_path = image_path + airline['icao_code'] + '.png'\n",
    "    logo = '&airline_logo_' + airline['icao_code'] if os.path.exists(logo_path) else 'nullptr'\n",
    "\n",
    "    values = ['\"' + airline['icao_code'] + '\"', '\"' + airline['callsign'] + '\"', '\"' + airline['name'].replace('\"', '\\'') + '\"', '&country_' + airline['iso_country'],  logo]\n",
    "    line = \"{ \" + \", \".join(values) + \"},\"\n",
    "    print(unicodedata.normalize('NFKD', line).encode('ascii', errors='ignore').decode('ascii'))\n"
   ]
  }
 ],
 "metadata": {
  "interpreter": {
   "hash": "31f2aee4e71d21fbe5cf8b01ff0e069b9275f58929596ceb00d14d90e3e16cd6"
  },
  "kernelspec": {
   "display_name": "Python 3.8.9 64-bit",
   "language": "python",
   "name": "python3"
  },
  "language_info": {
   "codemirror_mode": {
    "name": "ipython",
    "version": 3
   },
   "file_extension": ".py",
   "mimetype": "text/x-python",
   "name": "python",
   "nbconvert_exporter": "python",
   "pygments_lexer": "ipython3",
   "version": "3.8.9"
  },
  "orig_nbformat": 4
 },
 "nbformat": 4,
 "nbformat_minor": 2
}

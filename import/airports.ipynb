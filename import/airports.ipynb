{
 "cells": [
  {
   "cell_type": "markdown",
   "metadata": {},
   "source": [
    "# Airports"
   ]
  },
  {
   "cell_type": "markdown",
   "metadata": {},
   "source": [
    "https://davidmegginson.github.io/ourairports-data/airports.csv\n",
    "https://davidmegginson.github.io/ourairports-data/countries.csv\n",
    "\n",
    "pip install csv\n",
    "pip install collections\n",
    "pip install unicodedata\n",
    "pip install requests"
   ]
  },
  {
   "cell_type": "code",
   "execution_count": null,
   "metadata": {},
   "outputs": [],
   "source": [
    "import csv\n",
    "import unicodedata\n",
    "import requests"
   ]
  },
  {
   "cell_type": "code",
   "execution_count": null,
   "metadata": {},
   "outputs": [],
   "source": [
    "download_csv = False"
   ]
  },
  {
   "cell_type": "markdown",
   "metadata": {},
   "source": [
    "Download csv's"
   ]
  },
  {
   "cell_type": "code",
   "execution_count": null,
   "metadata": {},
   "outputs": [],
   "source": [
    "if download_csv:\n",
    "    # Download the airports.csv file\n",
    "    request = requests.get(\n",
    "        'https://davidmegginson.github.io/ourairports-data/airports.csv', allow_redirects=True)\n",
    "    if request.status_code == 200:\n",
    "        open('airports.csv', 'wb').write(request.content)\n",
    "\n",
    "    # Download the countries.csv file\n",
    "    request = requests.get(\n",
    "        'https://davidmegginson.github.io/ourairports-data/countries.csv', allow_redirects=True)\n",
    "    if request.status_code == 200:\n",
    "        open('countries.csv', 'wb').write(request.content)\n"
   ]
  },
  {
   "cell_type": "code",
   "execution_count": null,
   "metadata": {},
   "outputs": [],
   "source": [
    "with open('countries.csv', encoding='utf-8') as csvfile:\n",
    "    countries_csv = csv.reader(csvfile, delimiter=',', quotechar='\"')\n",
    "    next(countries_csv, None)  # skip the headers\n",
    "    countries = []\n",
    "  \n",
    "    # \"id\",\"code\",\"name\",\"continent\",\"wikipedia_link\",\"keywords\"\n",
    "    for row in countries_csv:\n",
    "        if not row[1] or len(row[1]) != 2:   # Only with 2 letter country code\n",
    "            continue\n",
    "    \n",
    "        countries.append({'iso_country': row[1], 'name': row[2]})"
   ]
  },
  {
   "cell_type": "code",
   "execution_count": null,
   "metadata": {},
   "outputs": [],
   "source": [
    "with open('airports.csv', encoding='utf-8') as csvfile:\n",
    "    airports_csv = csv.reader(csvfile, delimiter=',', quotechar='\"')\n",
    "    next(airports_csv, None)  # skip the headers\n",
    "    airports = []\n",
    "  \n",
    "    # \"id\",\"ident\",\"type\",\"name\",\"latitude_deg\",\"longitude_deg\",\"elevation_ft\",\"continent\",\"iso_country\",\"iso_region\",\"municipality\",\"scheduled_service\",\"gps_code\",\"iata_code\",\"local_code\",\"home_link\",\"wikipedia_link\",\"keywords\"\n",
    "    for row in airports_csv:\n",
    "        if not row[13] or len(row[13]) != 3:   # Only with 3 letter IATA code\n",
    "            continue\n",
    "\n",
    "        airports.append({'iata': row[13], 'name': row[3], 'municipality': row[10], 'iso_country': row[8], 'iso_region': row[9], 'latitude': row[4], 'longitude': row[5], 'elevation': row[6]})"
   ]
  },
  {
   "cell_type": "code",
   "execution_count": null,
   "metadata": {},
   "outputs": [],
   "source": [
    "countries.sort(key=lambda k: k['iso_country'])\n",
    "airports.sort(key=lambda k: k['iata'])"
   ]
  },
  {
   "cell_type": "code",
   "execution_count": null,
   "metadata": {},
   "outputs": [],
   "source": [
    "    for country in countries:\n",
    "        line = 'const country_t country_' + country['iso_country'] + ' = { \"' + country['iso_country'] + '\", \"' + country['name']+ '\", &country_flag_' + country['iso_country'] + ' };'\n",
    "        print(unicodedata.normalize('NFKD', line).encode('ascii', errors='ignore').decode('ascii'))\n"
   ]
  },
  {
   "cell_type": "code",
   "execution_count": null,
   "metadata": {},
   "outputs": [],
   "source": [
    "  for airport in airports:\n",
    "        region = airport['iso_region'].split('-')[1]\n",
    "        line = '{ \"' + airport['iata'] + '\", \"' + airport['name'].replace('\"', '\\'')+ '\", \"' + airport['municipality']+ '\", \"' + region + '\", &country_' + airport['iso_country'] + ' ,' +  str(airport['latitude']) + ', ' + str(airport['longitude']) + ', ' + str(airport['elevation'] + ' },')\n",
    "        print(unicodedata.normalize('NFKD', line).encode('ascii', errors='ignore').decode('ascii'))\n"
   ]
  }
 ],
 "metadata": {
  "interpreter": {
   "hash": "86428fa4b5d7b8ace9723e9bd1e8ed1400bb38462e6f6b9c7afc6ac8f75dcc04"
  },
  "kernelspec": {
   "display_name": "Python 3.10.0 64-bit (windows store)",
   "language": "python",
   "name": "python3"
  },
  "language_info": {
   "codemirror_mode": {
    "name": "ipython",
    "version": 3
   },
   "file_extension": ".py",
   "mimetype": "text/x-python",
   "name": "python",
   "nbconvert_exporter": "python",
   "pygments_lexer": "ipython3",
   "version": "3.10.0"
  },
  "orig_nbformat": 4
 },
 "nbformat": 4,
 "nbformat_minor": 2
}

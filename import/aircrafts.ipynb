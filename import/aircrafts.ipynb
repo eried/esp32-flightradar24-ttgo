{
 "cells": [
  {
   "cell_type": "markdown",
   "metadata": {},
   "source": [
    "# Aircraft types\n",
    "\n",
    "List obtained from: https://www.icao.int/publications/DOC8643/Pages/Search.aspx\n",
    "\n",
    "Can be harvested bij changing the option value for show xxxx entries\n"
   ]
  },
  {
   "cell_type": "code",
   "execution_count": null,
   "metadata": {},
   "outputs": [],
   "source": [
    "import csv\n",
    "import unicodedata\n"
   ]
  },
  {
   "cell_type": "code",
   "execution_count": null,
   "metadata": {},
   "outputs": [],
   "source": [
    "\n",
    "with open('aircrafts.csv', newline='') as csvfile:\n",
    "    aircrafts_csv = csv.reader(csvfile, delimiter='\\t', quotechar='')\n",
    "    aircrafts = []\n",
    "    # ​​Manufacturer\t​Model\t​Type Designator\t​Description\t​Engine Type\t​Engine Count\t​​WTC\n",
    "    for row in aircrafts_csv:\n",
    "        aircrafts.append({'manufacturer': row[0].capitalize(), 'model': row[1], 'type designator': row[2],\n",
    "                         'description': row[3], 'engine type': row[4], 'engine count': row[5], 'wtc': row[6]})\n",
    "\n",
    "#print(aircrafts)"
   ]
  },
  {
   "cell_type": "markdown",
   "metadata": {},
   "source": [
    "Sort the list on the column 'type designator'\n"
   ]
  },
  {
   "cell_type": "code",
   "execution_count": null,
   "metadata": {},
   "outputs": [],
   "source": [
    "aircrafts.sort(key=lambda v: v['type designator'])"
   ]
  },
  {
   "cell_type": "markdown",
   "metadata": {},
   "source": [
    "Generate the output"
   ]
  },
  {
   "cell_type": "code",
   "execution_count": null,
   "metadata": {},
   "outputs": [],
   "source": [
    "for aircraft in aircrafts:\n",
    "    values = [\"\\\"\" + aircraft['type designator'] + \"\\\", \\\"\" + aircraft['manufacturer']+\"\\\"\", \"\\\"\" + aircraft['model'] + \"\\\"\",\n",
    "              \"\\\"\" + aircraft['description'] + \"\\\"\", \"\\\"\" + aircraft['engine type'] + \"\\\"\", \"\\'\" + aircraft['engine count'] + \"\\'\"]\n",
    "    line = \"{ \" + \", \".join(values) + \"},\"\n",
    "    print(unicodedata.normalize('NFKD', line).encode('ascii', errors='ignore').decode('ascii'))"
   ]
  }
 ],
 "metadata": {
  "interpreter": {
   "hash": "aee8b7b246df8f9039afb4144a1f6fd8d2ca17a180786b69acc140d282b71a49"
  },
  "kernelspec": {
   "display_name": "Python 3.9.7 64-bit",
   "language": "python",
   "name": "python3"
  },
  "language_info": {
   "codemirror_mode": {
    "name": "ipython",
    "version": 3
   },
   "file_extension": ".py",
   "mimetype": "text/x-python",
   "name": "python",
   "nbconvert_exporter": "python",
   "pygments_lexer": "ipython3",
   "version": "3.9.7"
  },
  "orig_nbformat": 4
 },
 "nbformat": 4,
 "nbformat_minor": 2
}
